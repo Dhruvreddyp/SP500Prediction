{
 "cells": [
  {
   "cell_type": "code",
   "execution_count": 1,
   "metadata": {},
   "outputs": [],
   "source": [
    "import pandas as pd\n",
    "import numpy as np  \n",
    "\n",
    "from IPython.display import display\n",
    "import matplotlib.pyplot as plt\n",
    "import seaborn as sns\n",
    "%matplotlib inline"
   ]
  },
  {
   "cell_type": "code",
   "execution_count": 2,
   "metadata": {},
   "outputs": [],
   "source": [
    "tweets = pd.read_csv(\"trumptweet.csv\")"
   ]
  },
  {
   "cell_type": "code",
   "execution_count": 3,
   "metadata": {},
   "outputs": [
    {
     "data": {
      "text/html": [
       "<div>\n",
       "<style scoped>\n",
       "    .dataframe tbody tr th:only-of-type {\n",
       "        vertical-align: middle;\n",
       "    }\n",
       "\n",
       "    .dataframe tbody tr th {\n",
       "        vertical-align: top;\n",
       "    }\n",
       "\n",
       "    .dataframe thead th {\n",
       "        text-align: right;\n",
       "    }\n",
       "</style>\n",
       "<table border=\"1\" class=\"dataframe\">\n",
       "  <thead>\n",
       "    <tr style=\"text-align: right;\">\n",
       "      <th></th>\n",
       "      <th>source</th>\n",
       "      <th>text</th>\n",
       "      <th>created_at</th>\n",
       "      <th>id_str</th>\n",
       "    </tr>\n",
       "  </thead>\n",
       "  <tbody>\n",
       "    <tr>\n",
       "      <th>0</th>\n",
       "      <td>Twitter for iPhone</td>\n",
       "      <td>RT @JesseBWatters: A new poll has Independents...</td>\n",
       "      <td>11-20-2019 01:51:06</td>\n",
       "      <td>1196969184598675456</td>\n",
       "    </tr>\n",
       "    <tr>\n",
       "      <th>1</th>\n",
       "      <td>Twitter for iPhone</td>\n",
       "      <td>A great day for Republicans a great day for ou...</td>\n",
       "      <td>11-20-2019 01:06:48</td>\n",
       "      <td>1196958035127783427</td>\n",
       "    </tr>\n",
       "    <tr>\n",
       "      <th>2</th>\n",
       "      <td>Twitter for iPhone</td>\n",
       "      <td>I agree but in the end we will win and save ou...</td>\n",
       "      <td>11-20-2019 00:10:41</td>\n",
       "      <td>1196943910624538625</td>\n",
       "    </tr>\n",
       "    <tr>\n",
       "      <th>3</th>\n",
       "      <td>Twitter for iPhone</td>\n",
       "      <td>RT @SenateGOP: It’s time for Democrats to *do ...</td>\n",
       "      <td>11-19-2019 23:57:52</td>\n",
       "      <td>1196940686999851011</td>\n",
       "    </tr>\n",
       "    <tr>\n",
       "      <th>4</th>\n",
       "      <td>Twitter for iPhone</td>\n",
       "      <td>RT @RepMarkMeadows: Chairman Schiff is clearly...</td>\n",
       "      <td>11-19-2019 23:32:55</td>\n",
       "      <td>1196934406314889216</td>\n",
       "    </tr>\n",
       "  </tbody>\n",
       "</table>\n",
       "</div>"
      ],
      "text/plain": [
       "               source                                               text  \\\n",
       "0  Twitter for iPhone  RT @JesseBWatters: A new poll has Independents...   \n",
       "1  Twitter for iPhone  A great day for Republicans a great day for ou...   \n",
       "2  Twitter for iPhone  I agree but in the end we will win and save ou...   \n",
       "3  Twitter for iPhone  RT @SenateGOP: It’s time for Democrats to *do ...   \n",
       "4  Twitter for iPhone  RT @RepMarkMeadows: Chairman Schiff is clearly...   \n",
       "\n",
       "            created_at               id_str  \n",
       "0  11-20-2019 01:51:06  1196969184598675456  \n",
       "1  11-20-2019 01:06:48  1196958035127783427  \n",
       "2  11-20-2019 00:10:41  1196943910624538625  \n",
       "3  11-19-2019 23:57:52  1196940686999851011  \n",
       "4  11-19-2019 23:32:55  1196934406314889216  "
      ]
     },
     "execution_count": 3,
     "metadata": {},
     "output_type": "execute_result"
    }
   ],
   "source": [
    "tweets.head()"
   ]
  },
  {
   "cell_type": "code",
   "execution_count": 4,
   "metadata": {
    "scrolled": true
   },
   "outputs": [
    {
     "name": "stdout",
     "output_type": "stream",
     "text": [
      "source\n",
      "text\n",
      "created_at\n",
      "id_str\n"
     ]
    }
   ],
   "source": [
    "for col in tweets.columns: \n",
    "    print(col)"
   ]
  },
  {
   "cell_type": "code",
   "execution_count": 5,
   "metadata": {},
   "outputs": [],
   "source": [
    "tweets.dropna(inplace = True) \n"
   ]
  },
  {
   "cell_type": "code",
   "execution_count": 6,
   "metadata": {},
   "outputs": [
    {
     "data": {
      "text/plain": [
       "array([28504, 28504, 28504, 28504])"
      ]
     },
     "execution_count": 6,
     "metadata": {},
     "output_type": "execute_result"
    }
   ],
   "source": [
    "np.array([len(tweets.text) for tweet in tweets])"
   ]
  },
  {
   "cell_type": "code",
   "execution_count": 7,
   "metadata": {
    "scrolled": true
   },
   "outputs": [
    {
     "data": {
      "text/html": [
       "<div>\n",
       "<style scoped>\n",
       "    .dataframe tbody tr th:only-of-type {\n",
       "        vertical-align: middle;\n",
       "    }\n",
       "\n",
       "    .dataframe tbody tr th {\n",
       "        vertical-align: top;\n",
       "    }\n",
       "\n",
       "    .dataframe thead th {\n",
       "        text-align: right;\n",
       "    }\n",
       "</style>\n",
       "<table border=\"1\" class=\"dataframe\">\n",
       "  <thead>\n",
       "    <tr style=\"text-align: right;\">\n",
       "      <th></th>\n",
       "      <th>source</th>\n",
       "      <th>text</th>\n",
       "      <th>created_at</th>\n",
       "      <th>id_str</th>\n",
       "      <th>Text_Length</th>\n",
       "    </tr>\n",
       "  </thead>\n",
       "  <tbody>\n",
       "    <tr>\n",
       "      <th>0</th>\n",
       "      <td>Twitter for iPhone</td>\n",
       "      <td>RT @JesseBWatters: A new poll has Independents...</td>\n",
       "      <td>11-20-2019 01:51:06</td>\n",
       "      <td>1196969184598675456</td>\n",
       "      <td>140</td>\n",
       "    </tr>\n",
       "    <tr>\n",
       "      <th>1</th>\n",
       "      <td>Twitter for iPhone</td>\n",
       "      <td>A great day for Republicans a great day for ou...</td>\n",
       "      <td>11-20-2019 01:06:48</td>\n",
       "      <td>1196958035127783427</td>\n",
       "      <td>56</td>\n",
       "    </tr>\n",
       "    <tr>\n",
       "      <th>2</th>\n",
       "      <td>Twitter for iPhone</td>\n",
       "      <td>I agree but in the end we will win and save ou...</td>\n",
       "      <td>11-20-2019 00:10:41</td>\n",
       "      <td>1196943910624538625</td>\n",
       "      <td>105</td>\n",
       "    </tr>\n",
       "    <tr>\n",
       "      <th>3</th>\n",
       "      <td>Twitter for iPhone</td>\n",
       "      <td>RT @SenateGOP: It’s time for Democrats to *do ...</td>\n",
       "      <td>11-19-2019 23:57:52</td>\n",
       "      <td>1196940686999851011</td>\n",
       "      <td>102</td>\n",
       "    </tr>\n",
       "    <tr>\n",
       "      <th>4</th>\n",
       "      <td>Twitter for iPhone</td>\n",
       "      <td>RT @RepMarkMeadows: Chairman Schiff is clearly...</td>\n",
       "      <td>11-19-2019 23:32:55</td>\n",
       "      <td>1196934406314889216</td>\n",
       "      <td>138</td>\n",
       "    </tr>\n",
       "  </tbody>\n",
       "</table>\n",
       "</div>"
      ],
      "text/plain": [
       "               source                                               text  \\\n",
       "0  Twitter for iPhone  RT @JesseBWatters: A new poll has Independents...   \n",
       "1  Twitter for iPhone  A great day for Republicans a great day for ou...   \n",
       "2  Twitter for iPhone  I agree but in the end we will win and save ou...   \n",
       "3  Twitter for iPhone  RT @SenateGOP: It’s time for Democrats to *do ...   \n",
       "4  Twitter for iPhone  RT @RepMarkMeadows: Chairman Schiff is clearly...   \n",
       "\n",
       "            created_at               id_str  Text_Length  \n",
       "0  11-20-2019 01:51:06  1196969184598675456          140  \n",
       "1  11-20-2019 01:06:48  1196958035127783427           56  \n",
       "2  11-20-2019 00:10:41  1196943910624538625          105  \n",
       "3  11-19-2019 23:57:52  1196940686999851011          102  \n",
       "4  11-19-2019 23:32:55  1196934406314889216          138  "
      ]
     },
     "execution_count": 7,
     "metadata": {},
     "output_type": "execute_result"
    }
   ],
   "source": [
    "tweets[\"Text_Length\"]= tweets[\"text\"].str.len() \n",
    "tweets.head()"
   ]
  },
  {
   "cell_type": "markdown",
   "metadata": {},
   "source": [
    "Above, we have added code to figure out the length of each tweet in tweets. "
   ]
  },
  {
   "cell_type": "code",
   "execution_count": 8,
   "metadata": {},
   "outputs": [
    {
     "name": "stdout",
     "output_type": "stream",
     "text": [
      "<class 'pandas.core.frame.DataFrame'>\n",
      "Int64Index: 28504 entries, 0 to 28503\n",
      "Data columns (total 5 columns):\n",
      "source         28504 non-null object\n",
      "text           28504 non-null object\n",
      "created_at     28504 non-null object\n",
      "id_str         28504 non-null int64\n",
      "Text_Length    28504 non-null int64\n",
      "dtypes: int64(2), object(3)\n",
      "memory usage: 1.3+ MB\n"
     ]
    }
   ],
   "source": [
    "tweets.info()"
   ]
  },
  {
   "cell_type": "code",
   "execution_count": 9,
   "metadata": {},
   "outputs": [
    {
     "data": {
      "text/html": [
       "<div>\n",
       "<style scoped>\n",
       "    .dataframe tbody tr th:only-of-type {\n",
       "        vertical-align: middle;\n",
       "    }\n",
       "\n",
       "    .dataframe tbody tr th {\n",
       "        vertical-align: top;\n",
       "    }\n",
       "\n",
       "    .dataframe thead th {\n",
       "        text-align: right;\n",
       "    }\n",
       "</style>\n",
       "<table border=\"1\" class=\"dataframe\">\n",
       "  <thead>\n",
       "    <tr style=\"text-align: right;\">\n",
       "      <th></th>\n",
       "      <th>id_str</th>\n",
       "      <th>Text_Length</th>\n",
       "    </tr>\n",
       "  </thead>\n",
       "  <tbody>\n",
       "    <tr>\n",
       "      <th>count</th>\n",
       "      <td>2.850400e+04</td>\n",
       "      <td>28504.000000</td>\n",
       "    </tr>\n",
       "    <tr>\n",
       "      <th>mean</th>\n",
       "      <td>8.041833e+17</td>\n",
       "      <td>144.871772</td>\n",
       "    </tr>\n",
       "    <tr>\n",
       "      <th>std</th>\n",
       "      <td>2.500244e+17</td>\n",
       "      <td>153.091759</td>\n",
       "    </tr>\n",
       "    <tr>\n",
       "      <th>min</th>\n",
       "      <td>4.183651e+17</td>\n",
       "      <td>2.000000</td>\n",
       "    </tr>\n",
       "    <tr>\n",
       "      <th>25%</th>\n",
       "      <td>5.830288e+17</td>\n",
       "      <td>100.000000</td>\n",
       "    </tr>\n",
       "    <tr>\n",
       "      <th>50%</th>\n",
       "      <td>7.501943e+17</td>\n",
       "      <td>134.000000</td>\n",
       "    </tr>\n",
       "    <tr>\n",
       "      <th>75%</th>\n",
       "      <td>1.056879e+18</td>\n",
       "      <td>140.000000</td>\n",
       "    </tr>\n",
       "    <tr>\n",
       "      <th>max</th>\n",
       "      <td>1.196969e+18</td>\n",
       "      <td>19135.000000</td>\n",
       "    </tr>\n",
       "  </tbody>\n",
       "</table>\n",
       "</div>"
      ],
      "text/plain": [
       "             id_str   Text_Length\n",
       "count  2.850400e+04  28504.000000\n",
       "mean   8.041833e+17    144.871772\n",
       "std    2.500244e+17    153.091759\n",
       "min    4.183651e+17      2.000000\n",
       "25%    5.830288e+17    100.000000\n",
       "50%    7.501943e+17    134.000000\n",
       "75%    1.056879e+18    140.000000\n",
       "max    1.196969e+18  19135.000000"
      ]
     },
     "execution_count": 9,
     "metadata": {},
     "output_type": "execute_result"
    }
   ],
   "source": [
    "tweets.describe()"
   ]
  },
  {
   "cell_type": "markdown",
   "metadata": {},
   "source": [
    "Here we can see that the created_at column is a non-null object, let's convert it to a datetime. "
   ]
  },
  {
   "cell_type": "code",
   "execution_count": 10,
   "metadata": {},
   "outputs": [
    {
     "name": "stdout",
     "output_type": "stream",
     "text": [
      "<class 'pandas.core.frame.DataFrame'>\n",
      "Int64Index: 28504 entries, 0 to 28503\n",
      "Data columns (total 5 columns):\n",
      "source         28504 non-null object\n",
      "text           28504 non-null object\n",
      "created_at     28504 non-null datetime64[ns]\n",
      "id_str         28504 non-null int64\n",
      "Text_Length    28504 non-null int64\n",
      "dtypes: datetime64[ns](1), int64(2), object(2)\n",
      "memory usage: 1.3+ MB\n"
     ]
    }
   ],
   "source": [
    "tweets['created_at']= pd.to_datetime(tweets['created_at']) \n",
    "tweets.info()"
   ]
  },
  {
   "cell_type": "code",
   "execution_count": 11,
   "metadata": {},
   "outputs": [
    {
     "name": "stdout",
     "output_type": "stream",
     "text": [
      "The average length of tweets:  144.87177238282345\n"
     ]
    }
   ],
   "source": [
    "mean = np.mean(tweets['Text_Length'])\n",
    "print(\"The average length of tweets: \", mean)"
   ]
  },
  {
   "cell_type": "code",
   "execution_count": 12,
   "metadata": {
    "scrolled": true
   },
   "outputs": [
    {
     "data": {
      "image/png": "[encoded data removed]",
      "text/plain": [
       "<Figure size 1152x288 with 1 Axes>"
      ]
     },
     "metadata": {
      "needs_background": "light"
     },
     "output_type": "display_data"
    }
   ],
   "source": [
    "Tweet_lenghts = pd.Series(data=tweets['Text_Length'].values, index=tweets['created_at'])\n",
    "Tweet_lenghts.plot(figsize=(16,4), color='r');"
   ]
  },
  {
   "cell_type": "code",
   "execution_count": 13,
   "metadata": {},
   "outputs": [
    {
     "data": {
      "text/plain": [
       "count    28504.000000\n",
       "mean       144.871772\n",
       "std        153.091759\n",
       "min          2.000000\n",
       "25%        100.000000\n",
       "50%        134.000000\n",
       "75%        140.000000\n",
       "max      19135.000000\n",
       "dtype: float64"
      ]
     },
     "execution_count": 13,
     "metadata": {},
     "output_type": "execute_result"
    }
   ],
   "source": [
    "Tweet_lenghts.describe()"
   ]
  },
  {
   "cell_type": "markdown",
   "metadata": {},
   "source": [
    "This doesn't look right, we clearly have some outliers. Let's remove the extreme outliers. "
   ]
  },
  {
   "cell_type": "code",
   "execution_count": 14,
   "metadata": {},
   "outputs": [
    {
     "data": {
      "text/html": [
       "<div>\n",
       "<style scoped>\n",
       "    .dataframe tbody tr th:only-of-type {\n",
       "        vertical-align: middle;\n",
       "    }\n",
       "\n",
       "    .dataframe tbody tr th {\n",
       "        vertical-align: top;\n",
       "    }\n",
       "\n",
       "    .dataframe thead th {\n",
       "        text-align: right;\n",
       "    }\n",
       "</style>\n",
       "<table border=\"1\" class=\"dataframe\">\n",
       "  <thead>\n",
       "    <tr style=\"text-align: right;\">\n",
       "      <th></th>\n",
       "      <th>index</th>\n",
       "      <th>source</th>\n",
       "      <th>text</th>\n",
       "      <th>created_at</th>\n",
       "      <th>id_str</th>\n",
       "      <th>Text_Length</th>\n",
       "    </tr>\n",
       "  </thead>\n",
       "  <tbody>\n",
       "    <tr>\n",
       "      <th>28398</th>\n",
       "      <td>28499</td>\n",
       "      <td>Twitter for Android</td>\n",
       "      <td>@ma22dogs: @realDonaldTrump @TrumpLasVegas the...</td>\n",
       "      <td>2014-01-02 06:03:17</td>\n",
       "      <td>418623509838192640</td>\n",
       "      <td>242</td>\n",
       "    </tr>\n",
       "    <tr>\n",
       "      <th>28399</th>\n",
       "      <td>28500</td>\n",
       "      <td>Twitter for Android</td>\n",
       "      <td>@noahshappy: @realDonaldTrump very true commen...</td>\n",
       "      <td>2014-01-02 06:02:48</td>\n",
       "      <td>418623389600083968</td>\n",
       "      <td>107</td>\n",
       "    </tr>\n",
       "    <tr>\n",
       "      <th>28400</th>\n",
       "      <td>28501</td>\n",
       "      <td>Twitter for Android</td>\n",
       "      <td>@MeleMallory: @realDonaldTrump You know it's a...</td>\n",
       "      <td>2014-01-02 05:47:30</td>\n",
       "      <td>418619537740017664</td>\n",
       "      <td>254</td>\n",
       "    </tr>\n",
       "    <tr>\n",
       "      <th>28401</th>\n",
       "      <td>28502</td>\n",
       "      <td>Twitter for Android</td>\n",
       "      <td>This very expensive GLOBAL WARMING bullshit ha...</td>\n",
       "      <td>2014-01-02 00:39:56</td>\n",
       "      <td>418542137899491328</td>\n",
       "      <td>138</td>\n",
       "    </tr>\n",
       "    <tr>\n",
       "      <th>28402</th>\n",
       "      <td>28503</td>\n",
       "      <td>Twitter for Android</td>\n",
       "      <td>Today is the first day of the rest of your lif...</td>\n",
       "      <td>2014-01-01 12:56:30</td>\n",
       "      <td>418365112844824577</td>\n",
       "      <td>70</td>\n",
       "    </tr>\n",
       "  </tbody>\n",
       "</table>\n",
       "</div>"
      ],
      "text/plain": [
       "       index               source  \\\n",
       "28398  28499  Twitter for Android   \n",
       "28399  28500  Twitter for Android   \n",
       "28400  28501  Twitter for Android   \n",
       "28401  28502  Twitter for Android   \n",
       "28402  28503  Twitter for Android   \n",
       "\n",
       "                                                    text          created_at  \\\n",
       "28398  @ma22dogs: @realDonaldTrump @TrumpLasVegas the... 2014-01-02 06:03:17   \n",
       "28399  @noahshappy: @realDonaldTrump very true commen... 2014-01-02 06:02:48   \n",
       "28400  @MeleMallory: @realDonaldTrump You know it's a... 2014-01-02 05:47:30   \n",
       "28401  This very expensive GLOBAL WARMING bullshit ha... 2014-01-02 00:39:56   \n",
       "28402  Today is the first day of the rest of your lif... 2014-01-01 12:56:30   \n",
       "\n",
       "                   id_str  Text_Length  \n",
       "28398  418623509838192640          242  \n",
       "28399  418623389600083968          107  \n",
       "28400  418619537740017664          254  \n",
       "28401  418542137899491328          138  \n",
       "28402  418365112844824577           70  "
      ]
     },
     "execution_count": 14,
     "metadata": {},
     "output_type": "execute_result"
    }
   ],
   "source": [
    "from scipy import stats\n",
    "tweets=tweets[np.abs(tweets.Text_Length-tweets.Text_Length.mean()) <= (3*tweets.Text_Length.std())]\n",
    "tweets.reset_index(inplace = True) \n",
    "tweets.tail()"
   ]
  },
  {
   "cell_type": "code",
   "execution_count": 15,
   "metadata": {},
   "outputs": [
    {
     "data": {
      "text/plain": [
       "count    28403.000000\n",
       "mean       140.454353\n",
       "std         69.435507\n",
       "min          2.000000\n",
       "25%        100.000000\n",
       "50%        133.000000\n",
       "75%        140.000000\n",
       "max        604.000000\n",
       "dtype: float64"
      ]
     },
     "execution_count": 15,
     "metadata": {},
     "output_type": "execute_result"
    }
   ],
   "source": [
    "Tweet_lengths = pd.Series(data=tweets['Text_Length'].values, index=tweets['created_at'])\n",
    "Tweet_lengths.describe()"
   ]
  },
  {
   "cell_type": "code",
   "execution_count": 16,
   "metadata": {},
   "outputs": [
    {
     "data": {
      "image/png": "[encoded data removed]",
      "text/plain": [
       "<Figure size 1152x288 with 1 Axes>"
      ]
     },
     "metadata": {
      "needs_background": "light"
     },
     "output_type": "display_data"
    }
   ],
   "source": [
    "Tweet_lengths.plot(figsize=(16,4), color='r')\n",
    "plt.xlabel('Date of Tweet')\n",
    "plt.ylabel('Length of Tweet')\n",
    "plt.title(\"Length of Tweets by Date\")\n",
    "plt.show()"
   ]
  },
  {
   "cell_type": "code",
   "execution_count": 17,
   "metadata": {},
   "outputs": [
    {
     "name": "stdout",
     "output_type": "stream",
     "text": [
      "Content sources:\n",
      "* Twitter for iPhone\n",
      "* Twitter Media Studio\n",
      "* Twitter Web App\n",
      "* Twitter Web Client\n",
      "* Twitter for iPad\n",
      "* Media Studio\n",
      "* Twitter Ads\n",
      "* Twitter for Android\n",
      "* Periscope\n",
      "* TweetDeck\n",
      "* Instagram\n",
      "* Mobile Web (M5)\n",
      "* Twitter Mirror for iPad\n",
      "* Twitter QandA\n",
      "* Facebook\n",
      "* Twitter for BlackBerry\n",
      "* Neatly For BlackBerry 10\n",
      "* Twitter for Websites\n",
      "* Twitlonger\n"
     ]
    }
   ],
   "source": [
    "sources = []\n",
    "for source in tweets['source']:\n",
    "    if source not in sources:\n",
    "        sources.append(source)\n",
    "        \n",
    "print(\"Content sources:\")\n",
    "for source in sources:\n",
    "    print(\"* {}\".format(source))"
   ]
  },
  {
   "cell_type": "code",
   "execution_count": 18,
   "metadata": {},
   "outputs": [
    {
     "data": {
      "image/png": "[encoded data removed]",
      "text/plain": [
       "<Figure size 432x432 with 1 Axes>"
      ]
     },
     "metadata": {},
     "output_type": "display_data"
    }
   ],
   "source": [
    "percent = np.zeros(len(sources))\n",
    "\n",
    "for source in tweets['source']:\n",
    "    for index in range(len(sources)):\n",
    "        if source == sources[index]:\n",
    "            percent[index] += 1\n",
    "            pass\n",
    "\n",
    "percent /= 100\n",
    "\n",
    "# Pie chart:\n",
    "pie_chart = pd.Series(percent, index=sources, name='Sources')\n",
    "pie_chart.plot.pie(fontsize=11, autopct='%.4f', figsize=(6, 6));"
   ]
  },
  {
   "cell_type": "code",
   "execution_count": 19,
   "metadata": {},
   "outputs": [
    {
     "name": "stdout",
     "output_type": "stream",
     "text": [
      "140.38 Twitter for iPhone\n",
      "1.25 Twitter Media Studio\n",
      "0.04 Twitter Web App\n",
      "40.99 Twitter Web Client\n",
      "0.57 Twitter for iPad\n",
      "1.54 Media Studio\n",
      "0.96 Twitter Ads\n",
      "96.14 Twitter for Android\n",
      "0.07 Periscope\n",
      "0.02 TweetDeck\n",
      "0.99 Instagram\n",
      "0.01 Mobile Web (M5)\n",
      "0.01 Twitter Mirror for iPad\n",
      "0.1 Twitter QandA\n",
      "0.01 Facebook\n",
      "0.87 Twitter for BlackBerry\n",
      "0.05 Neatly For BlackBerry 10\n",
      "0.01 Twitter for Websites\n",
      "0.02 Twitlonger\n"
     ]
    }
   ],
   "source": [
    "for x,y in zip(percent,sources):\n",
    "    print (x,y)"
   ]
  },
  {
   "cell_type": "code",
   "execution_count": 20,
   "metadata": {},
   "outputs": [],
   "source": [
    "from textblob import TextBlob\n",
    "import re\n",
    "\n",
    "def clean_tweet(tweet):\n",
    "    '''\n",
    "    Use re to remove special characers and keep only the necessary characters. \n",
    "    '''\n",
    "    return ' '.join(re.sub(\"(@[A-Za-z0-9]+)|([^0-9A-Za-z \\t])|(\\w+:\\/\\/\\S+)\", \" \", tweet).split())\n",
    "\n",
    "def analize_sentiment(tweet):\n",
    "    '''\n",
    "    Classify whether a tweet is positive or negative using polarity for cleaned tweets\n",
    "    '''\n",
    "    analysis = TextBlob(clean_tweet(tweet))\n",
    "    if analysis.sentiment.polarity > 0:\n",
    "        return 1\n",
    "    elif analysis.sentiment.polarity == 0:\n",
    "        return 0\n",
    "    else:\n",
    "        return -1"
   ]
  },
  {
   "cell_type": "code",
   "execution_count": 21,
   "metadata": {},
   "outputs": [],
   "source": [
    "tweets['cleaned'] = np.array([ clean_tweet(tweet) for tweet in tweets['text'] ])"
   ]
  },
  {
   "cell_type": "code",
   "execution_count": 22,
   "metadata": {},
   "outputs": [
    {
     "data": {
      "text/html": [
       "<div>\n",
       "<style scoped>\n",
       "    .dataframe tbody tr th:only-of-type {\n",
       "        vertical-align: middle;\n",
       "    }\n",
       "\n",
       "    .dataframe tbody tr th {\n",
       "        vertical-align: top;\n",
       "    }\n",
       "\n",
       "    .dataframe thead th {\n",
       "        text-align: right;\n",
       "    }\n",
       "</style>\n",
       "<table border=\"1\" class=\"dataframe\">\n",
       "  <thead>\n",
       "    <tr style=\"text-align: right;\">\n",
       "      <th></th>\n",
       "      <th>index</th>\n",
       "      <th>source</th>\n",
       "      <th>text</th>\n",
       "      <th>created_at</th>\n",
       "      <th>id_str</th>\n",
       "      <th>Text_Length</th>\n",
       "      <th>cleaned</th>\n",
       "    </tr>\n",
       "  </thead>\n",
       "  <tbody>\n",
       "    <tr>\n",
       "      <th>0</th>\n",
       "      <td>0</td>\n",
       "      <td>Twitter for iPhone</td>\n",
       "      <td>RT @JesseBWatters: A new poll has Independents...</td>\n",
       "      <td>2019-11-20 01:51:06</td>\n",
       "      <td>1196969184598675456</td>\n",
       "      <td>140</td>\n",
       "      <td>RT A new poll has Independents opposing the im...</td>\n",
       "    </tr>\n",
       "    <tr>\n",
       "      <th>1</th>\n",
       "      <td>1</td>\n",
       "      <td>Twitter for iPhone</td>\n",
       "      <td>A great day for Republicans a great day for ou...</td>\n",
       "      <td>2019-11-20 01:06:48</td>\n",
       "      <td>1196958035127783427</td>\n",
       "      <td>56</td>\n",
       "      <td>A great day for Republicans a great day for ou...</td>\n",
       "    </tr>\n",
       "    <tr>\n",
       "      <th>2</th>\n",
       "      <td>2</td>\n",
       "      <td>Twitter for iPhone</td>\n",
       "      <td>I agree but in the end we will win and save ou...</td>\n",
       "      <td>2019-11-20 00:10:41</td>\n",
       "      <td>1196943910624538625</td>\n",
       "      <td>105</td>\n",
       "      <td>I agree but in the end we will win and save ou...</td>\n",
       "    </tr>\n",
       "    <tr>\n",
       "      <th>3</th>\n",
       "      <td>3</td>\n",
       "      <td>Twitter for iPhone</td>\n",
       "      <td>RT @SenateGOP: It’s time for Democrats to *do ...</td>\n",
       "      <td>2019-11-19 23:57:52</td>\n",
       "      <td>1196940686999851011</td>\n",
       "      <td>102</td>\n",
       "      <td>RT It s time for Democrats to do their job and...</td>\n",
       "    </tr>\n",
       "    <tr>\n",
       "      <th>4</th>\n",
       "      <td>4</td>\n",
       "      <td>Twitter for iPhone</td>\n",
       "      <td>RT @RepMarkMeadows: Chairman Schiff is clearly...</td>\n",
       "      <td>2019-11-19 23:32:55</td>\n",
       "      <td>1196934406314889216</td>\n",
       "      <td>138</td>\n",
       "      <td>RT Chairman Schiff is clearly not getting the ...</td>\n",
       "    </tr>\n",
       "  </tbody>\n",
       "</table>\n",
       "</div>"
      ],
      "text/plain": [
       "   index              source  \\\n",
       "0      0  Twitter for iPhone   \n",
       "1      1  Twitter for iPhone   \n",
       "2      2  Twitter for iPhone   \n",
       "3      3  Twitter for iPhone   \n",
       "4      4  Twitter for iPhone   \n",
       "\n",
       "                                                text          created_at  \\\n",
       "0  RT @JesseBWatters: A new poll has Independents... 2019-11-20 01:51:06   \n",
       "1  A great day for Republicans a great day for ou... 2019-11-20 01:06:48   \n",
       "2  I agree but in the end we will win and save ou... 2019-11-20 00:10:41   \n",
       "3  RT @SenateGOP: It’s time for Democrats to *do ... 2019-11-19 23:57:52   \n",
       "4  RT @RepMarkMeadows: Chairman Schiff is clearly... 2019-11-19 23:32:55   \n",
       "\n",
       "                id_str  Text_Length  \\\n",
       "0  1196969184598675456          140   \n",
       "1  1196958035127783427           56   \n",
       "2  1196943910624538625          105   \n",
       "3  1196940686999851011          102   \n",
       "4  1196934406314889216          138   \n",
       "\n",
       "                                             cleaned  \n",
       "0  RT A new poll has Independents opposing the im...  \n",
       "1  A great day for Republicans a great day for ou...  \n",
       "2  I agree but in the end we will win and save ou...  \n",
       "3  RT It s time for Democrats to do their job and...  \n",
       "4  RT Chairman Schiff is clearly not getting the ...  "
      ]
     },
     "execution_count": 22,
     "metadata": {},
     "output_type": "execute_result"
    }
   ],
   "source": [
    "tweets.head() "
   ]
  },
  {
   "cell_type": "code",
   "execution_count": 23,
   "metadata": {},
   "outputs": [],
   "source": [
    "tweets['sentiment'] = np.array([ analize_sentiment(tweet) for tweet in tweets['text'] ])\n"
   ]
  },
  {
   "cell_type": "code",
   "execution_count": 24,
   "metadata": {},
   "outputs": [
    {
     "data": {
      "text/html": [
       "<div>\n",
       "<style scoped>\n",
       "    .dataframe tbody tr th:only-of-type {\n",
       "        vertical-align: middle;\n",
       "    }\n",
       "\n",
       "    .dataframe tbody tr th {\n",
       "        vertical-align: top;\n",
       "    }\n",
       "\n",
       "    .dataframe thead th {\n",
       "        text-align: right;\n",
       "    }\n",
       "</style>\n",
       "<table border=\"1\" class=\"dataframe\">\n",
       "  <thead>\n",
       "    <tr style=\"text-align: right;\">\n",
       "      <th></th>\n",
       "      <th>index</th>\n",
       "      <th>source</th>\n",
       "      <th>text</th>\n",
       "      <th>created_at</th>\n",
       "      <th>id_str</th>\n",
       "      <th>Text_Length</th>\n",
       "      <th>cleaned</th>\n",
       "      <th>sentiment</th>\n",
       "    </tr>\n",
       "  </thead>\n",
       "  <tbody>\n",
       "    <tr>\n",
       "      <th>28398</th>\n",
       "      <td>28499</td>\n",
       "      <td>Twitter for Android</td>\n",
       "      <td>@ma22dogs: @realDonaldTrump @TrumpLasVegas the...</td>\n",
       "      <td>2014-01-02 06:03:17</td>\n",
       "      <td>418623509838192640</td>\n",
       "      <td>242</td>\n",
       "      <td>the rooms are like condos Perfect for families...</td>\n",
       "      <td>1</td>\n",
       "    </tr>\n",
       "    <tr>\n",
       "      <th>28399</th>\n",
       "      <td>28500</td>\n",
       "      <td>Twitter for Android</td>\n",
       "      <td>@noahshappy: @realDonaldTrump very true commen...</td>\n",
       "      <td>2014-01-02 06:02:48</td>\n",
       "      <td>418623389600083968</td>\n",
       "      <td>107</td>\n",
       "      <td>very true comment Donald I m glad we have peop...</td>\n",
       "      <td>1</td>\n",
       "    </tr>\n",
       "    <tr>\n",
       "      <th>28400</th>\n",
       "      <td>28501</td>\n",
       "      <td>Twitter for Android</td>\n",
       "      <td>@MeleMallory: @realDonaldTrump You know it's a...</td>\n",
       "      <td>2014-01-02 05:47:30</td>\n",
       "      <td>418619537740017664</td>\n",
       "      <td>254</td>\n",
       "      <td>You know it s actually called CLIMATE CHANGE r...</td>\n",
       "      <td>1</td>\n",
       "    </tr>\n",
       "    <tr>\n",
       "      <th>28401</th>\n",
       "      <td>28502</td>\n",
       "      <td>Twitter for Android</td>\n",
       "      <td>This very expensive GLOBAL WARMING bullshit ha...</td>\n",
       "      <td>2014-01-02 00:39:56</td>\n",
       "      <td>418542137899491328</td>\n",
       "      <td>138</td>\n",
       "      <td>This very expensive GLOBAL WARMING bullshit ha...</td>\n",
       "      <td>-1</td>\n",
       "    </tr>\n",
       "    <tr>\n",
       "      <th>28402</th>\n",
       "      <td>28503</td>\n",
       "      <td>Twitter for Android</td>\n",
       "      <td>Today is the first day of the rest of your lif...</td>\n",
       "      <td>2014-01-01 12:56:30</td>\n",
       "      <td>418365112844824577</td>\n",
       "      <td>70</td>\n",
       "      <td>Today is the first day of the rest of your lif...</td>\n",
       "      <td>1</td>\n",
       "    </tr>\n",
       "  </tbody>\n",
       "</table>\n",
       "</div>"
      ],
      "text/plain": [
       "       index               source  \\\n",
       "28398  28499  Twitter for Android   \n",
       "28399  28500  Twitter for Android   \n",
       "28400  28501  Twitter for Android   \n",
       "28401  28502  Twitter for Android   \n",
       "28402  28503  Twitter for Android   \n",
       "\n",
       "                                                    text          created_at  \\\n",
       "28398  @ma22dogs: @realDonaldTrump @TrumpLasVegas the... 2014-01-02 06:03:17   \n",
       "28399  @noahshappy: @realDonaldTrump very true commen... 2014-01-02 06:02:48   \n",
       "28400  @MeleMallory: @realDonaldTrump You know it's a... 2014-01-02 05:47:30   \n",
       "28401  This very expensive GLOBAL WARMING bullshit ha... 2014-01-02 00:39:56   \n",
       "28402  Today is the first day of the rest of your lif... 2014-01-01 12:56:30   \n",
       "\n",
       "                   id_str  Text_Length  \\\n",
       "28398  418623509838192640          242   \n",
       "28399  418623389600083968          107   \n",
       "28400  418619537740017664          254   \n",
       "28401  418542137899491328          138   \n",
       "28402  418365112844824577           70   \n",
       "\n",
       "                                                 cleaned  sentiment  \n",
       "28398  the rooms are like condos Perfect for families...          1  \n",
       "28399  very true comment Donald I m glad we have peop...          1  \n",
       "28400  You know it s actually called CLIMATE CHANGE r...          1  \n",
       "28401  This very expensive GLOBAL WARMING bullshit ha...         -1  \n",
       "28402  Today is the first day of the rest of your lif...          1  "
      ]
     },
     "execution_count": 24,
     "metadata": {},
     "output_type": "execute_result"
    }
   ],
   "source": [
    "tweets.tail()"
   ]
  },
  {
   "cell_type": "code",
   "execution_count": 25,
   "metadata": {},
   "outputs": [],
   "source": [
    "positive = [ tweet for index, tweet in enumerate(tweets['text']) if tweets['sentiment'][index] > 0]\n",
    "neutral = [ tweet for index, tweet in enumerate(tweets['text']) if tweets['sentiment'][index] == 0]\n",
    "negative = [ tweet for index, tweet in enumerate(tweets['text']) if tweets['sentiment'][index] < 0]"
   ]
  },
  {
   "cell_type": "code",
   "execution_count": 26,
   "metadata": {},
   "outputs": [
    {
     "name": "stdout",
     "output_type": "stream",
     "text": [
      "Positive tweets: 55.07516811604408%\n",
      "Neutral tweets: 26.571136851741013%\n",
      "Negative tweets: 18.353695032214908%\n"
     ]
    }
   ],
   "source": [
    "print(\"Positive tweets: {}%\".format(len(positive)*100/len(tweets['text'])))\n",
    "print(\"Neutral tweets: {}%\".format(len(neutral)*100/len(tweets['text'])))\n",
    "print(\"Negative tweets: {}%\".format(len(negative)*100/len(tweets['text'])))"
   ]
  },
  {
   "cell_type": "code",
   "execution_count": 27,
   "metadata": {},
   "outputs": [],
   "source": [
    "tweets['date'] = tweets['created_at'].dt.date\n",
    "tweets = tweets.groupby(by='date').count()"
   ]
  },
  {
   "cell_type": "code",
   "execution_count": 28,
   "metadata": {
    "scrolled": true
   },
   "outputs": [
    {
     "name": "stdout",
     "output_type": "stream",
     "text": [
      "13.525238095238095\n"
     ]
    }
   ],
   "source": [
    "tweets['count']= tweets['created_at']\n",
    "mean_tweets = tweets['count'].mean()\n",
    "print(mean_tweets)\n"
   ]
  },
  {
   "cell_type": "markdown",
   "metadata": {},
   "source": [
    "Stocks Data"
   ]
  },
  {
   "cell_type": "code",
   "execution_count": 29,
   "metadata": {
    "scrolled": true
   },
   "outputs": [
    {
     "data": {
      "text/html": [
       "<div>\n",
       "<style scoped>\n",
       "    .dataframe tbody tr th:only-of-type {\n",
       "        vertical-align: middle;\n",
       "    }\n",
       "\n",
       "    .dataframe tbody tr th {\n",
       "        vertical-align: top;\n",
       "    }\n",
       "\n",
       "    .dataframe thead th {\n",
       "        text-align: right;\n",
       "    }\n",
       "</style>\n",
       "<table border=\"1\" class=\"dataframe\">\n",
       "  <thead>\n",
       "    <tr style=\"text-align: right;\">\n",
       "      <th></th>\n",
       "      <th>Date</th>\n",
       "      <th>Open Price</th>\n",
       "      <th>Close Price</th>\n",
       "      <th>High Price</th>\n",
       "      <th>Low Price</th>\n",
       "      <th>Volume</th>\n",
       "    </tr>\n",
       "  </thead>\n",
       "  <tbody>\n",
       "    <tr>\n",
       "      <th>0</th>\n",
       "      <td>02-Jan-2014</td>\n",
       "      <td>1845.86</td>\n",
       "      <td>1831.98</td>\n",
       "      <td>1845.86</td>\n",
       "      <td>1827.74</td>\n",
       "      <td>1812452608</td>\n",
       "    </tr>\n",
       "    <tr>\n",
       "      <th>1</th>\n",
       "      <td>03-Jan-2014</td>\n",
       "      <td>1833.21</td>\n",
       "      <td>1831.37</td>\n",
       "      <td>1838.24</td>\n",
       "      <td>1829.13</td>\n",
       "      <td>1649433088</td>\n",
       "    </tr>\n",
       "    <tr>\n",
       "      <th>2</th>\n",
       "      <td>06-Jan-2014</td>\n",
       "      <td>1832.31</td>\n",
       "      <td>1826.77</td>\n",
       "      <td>1837.16</td>\n",
       "      <td>1823.73</td>\n",
       "      <td>1979986176</td>\n",
       "    </tr>\n",
       "    <tr>\n",
       "      <th>3</th>\n",
       "      <td>07-Jan-2014</td>\n",
       "      <td>1828.71</td>\n",
       "      <td>1837.88</td>\n",
       "      <td>1840.10</td>\n",
       "      <td>1828.71</td>\n",
       "      <td>2067762944</td>\n",
       "    </tr>\n",
       "    <tr>\n",
       "      <th>4</th>\n",
       "      <td>08-Jan-2014</td>\n",
       "      <td>1837.90</td>\n",
       "      <td>1837.49</td>\n",
       "      <td>1840.02</td>\n",
       "      <td>1831.40</td>\n",
       "      <td>2319179520</td>\n",
       "    </tr>\n",
       "  </tbody>\n",
       "</table>\n",
       "</div>"
      ],
      "text/plain": [
       "          Date  Open Price  Close Price  High Price  Low Price      Volume\n",
       "0  02-Jan-2014     1845.86      1831.98     1845.86    1827.74  1812452608\n",
       "1  03-Jan-2014     1833.21      1831.37     1838.24    1829.13  1649433088\n",
       "2  06-Jan-2014     1832.31      1826.77     1837.16    1823.73  1979986176\n",
       "3  07-Jan-2014     1828.71      1837.88     1840.10    1828.71  2067762944\n",
       "4  08-Jan-2014     1837.90      1837.49     1840.02    1831.40  2319179520"
      ]
     },
     "execution_count": 29,
     "metadata": {},
     "output_type": "execute_result"
    }
   ],
   "source": [
    "stocks = pd.read_csv('Stock-Data.csv')\n",
    "stocks.head()"
   ]
  },
  {
   "cell_type": "code",
   "execution_count": 30,
   "metadata": {},
   "outputs": [
    {
     "data": {
      "text/html": [
       "<div>\n",
       "<style scoped>\n",
       "    .dataframe tbody tr th:only-of-type {\n",
       "        vertical-align: middle;\n",
       "    }\n",
       "\n",
       "    .dataframe tbody tr th {\n",
       "        vertical-align: top;\n",
       "    }\n",
       "\n",
       "    .dataframe thead th {\n",
       "        text-align: right;\n",
       "    }\n",
       "</style>\n",
       "<table border=\"1\" class=\"dataframe\">\n",
       "  <thead>\n",
       "    <tr style=\"text-align: right;\">\n",
       "      <th></th>\n",
       "      <th>Open Price</th>\n",
       "      <th>Close Price</th>\n",
       "      <th>High Price</th>\n",
       "      <th>Low Price</th>\n",
       "      <th>Volume</th>\n",
       "    </tr>\n",
       "  </thead>\n",
       "  <tbody>\n",
       "    <tr>\n",
       "      <th>count</th>\n",
       "      <td>1482.000000</td>\n",
       "      <td>1482.000000</td>\n",
       "      <td>1482.000000</td>\n",
       "      <td>1482.000000</td>\n",
       "      <td>1.482000e+03</td>\n",
       "    </tr>\n",
       "    <tr>\n",
       "      <th>mean</th>\n",
       "      <td>2350.480439</td>\n",
       "      <td>2350.719818</td>\n",
       "      <td>2360.651559</td>\n",
       "      <td>2339.222126</td>\n",
       "      <td>2.126153e+09</td>\n",
       "    </tr>\n",
       "    <tr>\n",
       "      <th>std</th>\n",
       "      <td>368.611382</td>\n",
       "      <td>368.495345</td>\n",
       "      <td>369.581323</td>\n",
       "      <td>367.520673</td>\n",
       "      <td>4.598882e+08</td>\n",
       "    </tr>\n",
       "    <tr>\n",
       "      <th>min</th>\n",
       "      <td>1743.820000</td>\n",
       "      <td>1741.890000</td>\n",
       "      <td>1755.790000</td>\n",
       "      <td>1737.920000</td>\n",
       "      <td>5.181584e+08</td>\n",
       "    </tr>\n",
       "    <tr>\n",
       "      <th>25%</th>\n",
       "      <td>2047.865000</td>\n",
       "      <td>2047.732500</td>\n",
       "      <td>2060.375000</td>\n",
       "      <td>2040.510000</td>\n",
       "      <td>1.848538e+09</td>\n",
       "    </tr>\n",
       "    <tr>\n",
       "      <th>50%</th>\n",
       "      <td>2245.315000</td>\n",
       "      <td>2243.770000</td>\n",
       "      <td>2252.635000</td>\n",
       "      <td>2235.595000</td>\n",
       "      <td>2.060772e+09</td>\n",
       "    </tr>\n",
       "    <tr>\n",
       "      <th>75%</th>\n",
       "      <td>2711.905000</td>\n",
       "      <td>2709.510000</td>\n",
       "      <td>2727.737500</td>\n",
       "      <td>2697.105000</td>\n",
       "      <td>2.325534e+09</td>\n",
       "    </tr>\n",
       "    <tr>\n",
       "      <th>max</th>\n",
       "      <td>3127.450000</td>\n",
       "      <td>3122.030000</td>\n",
       "      <td>3127.640000</td>\n",
       "      <td>3113.470000</td>\n",
       "      <td>4.779733e+09</td>\n",
       "    </tr>\n",
       "  </tbody>\n",
       "</table>\n",
       "</div>"
      ],
      "text/plain": [
       "        Open Price  Close Price   High Price    Low Price        Volume\n",
       "count  1482.000000  1482.000000  1482.000000  1482.000000  1.482000e+03\n",
       "mean   2350.480439  2350.719818  2360.651559  2339.222126  2.126153e+09\n",
       "std     368.611382   368.495345   369.581323   367.520673  4.598882e+08\n",
       "min    1743.820000  1741.890000  1755.790000  1737.920000  5.181584e+08\n",
       "25%    2047.865000  2047.732500  2060.375000  2040.510000  1.848538e+09\n",
       "50%    2245.315000  2243.770000  2252.635000  2235.595000  2.060772e+09\n",
       "75%    2711.905000  2709.510000  2727.737500  2697.105000  2.325534e+09\n",
       "max    3127.450000  3122.030000  3127.640000  3113.470000  4.779733e+09"
      ]
     },
     "execution_count": 30,
     "metadata": {},
     "output_type": "execute_result"
    }
   ],
   "source": [
    "stocks.describe()"
   ]
  },
  {
   "cell_type": "code",
   "execution_count": 31,
   "metadata": {},
   "outputs": [],
   "source": [
    "stocks['Close Price'] = stocks['Close Price'].astype(float)\n",
    "stocks['change']=((stocks['Close Price']-stocks['Open Price'])/stocks['Open Price'])*100"
   ]
  },
  {
   "cell_type": "code",
   "execution_count": 32,
   "metadata": {},
   "outputs": [
    {
     "data": {
      "text/html": [
       "<div>\n",
       "<style scoped>\n",
       "    .dataframe tbody tr th:only-of-type {\n",
       "        vertical-align: middle;\n",
       "    }\n",
       "\n",
       "    .dataframe tbody tr th {\n",
       "        vertical-align: top;\n",
       "    }\n",
       "\n",
       "    .dataframe thead th {\n",
       "        text-align: right;\n",
       "    }\n",
       "</style>\n",
       "<table border=\"1\" class=\"dataframe\">\n",
       "  <thead>\n",
       "    <tr style=\"text-align: right;\">\n",
       "      <th></th>\n",
       "      <th>Date</th>\n",
       "      <th>Open Price</th>\n",
       "      <th>Close Price</th>\n",
       "      <th>High Price</th>\n",
       "      <th>Low Price</th>\n",
       "      <th>Volume</th>\n",
       "      <th>change</th>\n",
       "    </tr>\n",
       "  </thead>\n",
       "  <tbody>\n",
       "    <tr>\n",
       "      <th>0</th>\n",
       "      <td>02-Jan-2014</td>\n",
       "      <td>1845.86</td>\n",
       "      <td>1831.98</td>\n",
       "      <td>1845.86</td>\n",
       "      <td>1827.74</td>\n",
       "      <td>1812452608</td>\n",
       "      <td>-0.751953</td>\n",
       "    </tr>\n",
       "    <tr>\n",
       "      <th>1</th>\n",
       "      <td>03-Jan-2014</td>\n",
       "      <td>1833.21</td>\n",
       "      <td>1831.37</td>\n",
       "      <td>1838.24</td>\n",
       "      <td>1829.13</td>\n",
       "      <td>1649433088</td>\n",
       "      <td>-0.100370</td>\n",
       "    </tr>\n",
       "    <tr>\n",
       "      <th>2</th>\n",
       "      <td>06-Jan-2014</td>\n",
       "      <td>1832.31</td>\n",
       "      <td>1826.77</td>\n",
       "      <td>1837.16</td>\n",
       "      <td>1823.73</td>\n",
       "      <td>1979986176</td>\n",
       "      <td>-0.302351</td>\n",
       "    </tr>\n",
       "    <tr>\n",
       "      <th>3</th>\n",
       "      <td>07-Jan-2014</td>\n",
       "      <td>1828.71</td>\n",
       "      <td>1837.88</td>\n",
       "      <td>1840.10</td>\n",
       "      <td>1828.71</td>\n",
       "      <td>2067762944</td>\n",
       "      <td>0.501446</td>\n",
       "    </tr>\n",
       "    <tr>\n",
       "      <th>4</th>\n",
       "      <td>08-Jan-2014</td>\n",
       "      <td>1837.90</td>\n",
       "      <td>1837.49</td>\n",
       "      <td>1840.02</td>\n",
       "      <td>1831.40</td>\n",
       "      <td>2319179520</td>\n",
       "      <td>-0.022308</td>\n",
       "    </tr>\n",
       "  </tbody>\n",
       "</table>\n",
       "</div>"
      ],
      "text/plain": [
       "          Date  Open Price  Close Price  High Price  Low Price      Volume  \\\n",
       "0  02-Jan-2014     1845.86      1831.98     1845.86    1827.74  1812452608   \n",
       "1  03-Jan-2014     1833.21      1831.37     1838.24    1829.13  1649433088   \n",
       "2  06-Jan-2014     1832.31      1826.77     1837.16    1823.73  1979986176   \n",
       "3  07-Jan-2014     1828.71      1837.88     1840.10    1828.71  2067762944   \n",
       "4  08-Jan-2014     1837.90      1837.49     1840.02    1831.40  2319179520   \n",
       "\n",
       "     change  \n",
       "0 -0.751953  \n",
       "1 -0.100370  \n",
       "2 -0.302351  \n",
       "3  0.501446  \n",
       "4 -0.022308  "
      ]
     },
     "execution_count": 32,
     "metadata": {},
     "output_type": "execute_result"
    }
   ],
   "source": [
    "stocks.head()"
   ]
  },
  {
   "cell_type": "code",
   "execution_count": 33,
   "metadata": {
    "scrolled": true
   },
   "outputs": [
    {
     "data": {
      "text/plain": [
       "nan"
      ]
     },
     "execution_count": 33,
     "metadata": {},
     "output_type": "execute_result"
    }
   ],
   "source": [
    "tweets['count'].corr(stocks['change'])"
   ]
  },
  {
   "cell_type": "code",
   "execution_count": 34,
   "metadata": {},
   "outputs": [],
   "source": [
    "stocks['Date'] = pd.to_datetime(stocks['Date'])\n",
    "stocks.set_index('Date',inplace=True)"
   ]
  },
  {
   "cell_type": "code",
   "execution_count": 35,
   "metadata": {
    "scrolled": true
   },
   "outputs": [
    {
     "data": {
      "text/html": [
       "<div>\n",
       "<style scoped>\n",
       "    .dataframe tbody tr th:only-of-type {\n",
       "        vertical-align: middle;\n",
       "    }\n",
       "\n",
       "    .dataframe tbody tr th {\n",
       "        vertical-align: top;\n",
       "    }\n",
       "\n",
       "    .dataframe thead th {\n",
       "        text-align: right;\n",
       "    }\n",
       "</style>\n",
       "<table border=\"1\" class=\"dataframe\">\n",
       "  <thead>\n",
       "    <tr style=\"text-align: right;\">\n",
       "      <th></th>\n",
       "      <th>Open Price</th>\n",
       "      <th>Close Price</th>\n",
       "      <th>High Price</th>\n",
       "      <th>Low Price</th>\n",
       "      <th>Volume</th>\n",
       "      <th>change</th>\n",
       "      <th>index</th>\n",
       "      <th>source</th>\n",
       "      <th>text</th>\n",
       "      <th>created_at</th>\n",
       "      <th>id_str</th>\n",
       "      <th>Text_Length</th>\n",
       "      <th>cleaned</th>\n",
       "      <th>sentiment</th>\n",
       "      <th>count</th>\n",
       "    </tr>\n",
       "  </thead>\n",
       "  <tbody>\n",
       "    <tr>\n",
       "      <th>2014-01-02</th>\n",
       "      <td>1845.86</td>\n",
       "      <td>1831.98</td>\n",
       "      <td>1845.86</td>\n",
       "      <td>1827.74</td>\n",
       "      <td>1812452608</td>\n",
       "      <td>-0.751953</td>\n",
       "      <td>15</td>\n",
       "      <td>15</td>\n",
       "      <td>15</td>\n",
       "      <td>15</td>\n",
       "      <td>15</td>\n",
       "      <td>15</td>\n",
       "      <td>15</td>\n",
       "      <td>15</td>\n",
       "      <td>15</td>\n",
       "    </tr>\n",
       "    <tr>\n",
       "      <th>2014-01-03</th>\n",
       "      <td>1833.21</td>\n",
       "      <td>1831.37</td>\n",
       "      <td>1838.24</td>\n",
       "      <td>1829.13</td>\n",
       "      <td>1649433088</td>\n",
       "      <td>-0.100370</td>\n",
       "      <td>9</td>\n",
       "      <td>9</td>\n",
       "      <td>9</td>\n",
       "      <td>9</td>\n",
       "      <td>9</td>\n",
       "      <td>9</td>\n",
       "      <td>9</td>\n",
       "      <td>9</td>\n",
       "      <td>9</td>\n",
       "    </tr>\n",
       "    <tr>\n",
       "      <th>2014-01-06</th>\n",
       "      <td>1832.31</td>\n",
       "      <td>1826.77</td>\n",
       "      <td>1837.16</td>\n",
       "      <td>1823.73</td>\n",
       "      <td>1979986176</td>\n",
       "      <td>-0.302351</td>\n",
       "      <td>11</td>\n",
       "      <td>11</td>\n",
       "      <td>11</td>\n",
       "      <td>11</td>\n",
       "      <td>11</td>\n",
       "      <td>11</td>\n",
       "      <td>11</td>\n",
       "      <td>11</td>\n",
       "      <td>11</td>\n",
       "    </tr>\n",
       "    <tr>\n",
       "      <th>2014-01-07</th>\n",
       "      <td>1828.71</td>\n",
       "      <td>1837.88</td>\n",
       "      <td>1840.10</td>\n",
       "      <td>1828.71</td>\n",
       "      <td>2067762944</td>\n",
       "      <td>0.501446</td>\n",
       "      <td>7</td>\n",
       "      <td>7</td>\n",
       "      <td>7</td>\n",
       "      <td>7</td>\n",
       "      <td>7</td>\n",
       "      <td>7</td>\n",
       "      <td>7</td>\n",
       "      <td>7</td>\n",
       "      <td>7</td>\n",
       "    </tr>\n",
       "    <tr>\n",
       "      <th>2014-01-08</th>\n",
       "      <td>1837.90</td>\n",
       "      <td>1837.49</td>\n",
       "      <td>1840.02</td>\n",
       "      <td>1831.40</td>\n",
       "      <td>2319179520</td>\n",
       "      <td>-0.022308</td>\n",
       "      <td>5</td>\n",
       "      <td>5</td>\n",
       "      <td>5</td>\n",
       "      <td>5</td>\n",
       "      <td>5</td>\n",
       "      <td>5</td>\n",
       "      <td>5</td>\n",
       "      <td>5</td>\n",
       "      <td>5</td>\n",
       "    </tr>\n",
       "  </tbody>\n",
       "</table>\n",
       "</div>"
      ],
      "text/plain": [
       "            Open Price  Close Price  High Price  Low Price      Volume  \\\n",
       "2014-01-02     1845.86      1831.98     1845.86    1827.74  1812452608   \n",
       "2014-01-03     1833.21      1831.37     1838.24    1829.13  1649433088   \n",
       "2014-01-06     1832.31      1826.77     1837.16    1823.73  1979986176   \n",
       "2014-01-07     1828.71      1837.88     1840.10    1828.71  2067762944   \n",
       "2014-01-08     1837.90      1837.49     1840.02    1831.40  2319179520   \n",
       "\n",
       "              change  index  source  text  created_at  id_str  Text_Length  \\\n",
       "2014-01-02 -0.751953     15      15    15          15      15           15   \n",
       "2014-01-03 -0.100370      9       9     9           9       9            9   \n",
       "2014-01-06 -0.302351     11      11    11          11      11           11   \n",
       "2014-01-07  0.501446      7       7     7           7       7            7   \n",
       "2014-01-08 -0.022308      5       5     5           5       5            5   \n",
       "\n",
       "            cleaned  sentiment  count  \n",
       "2014-01-02       15         15     15  \n",
       "2014-01-03        9          9      9  \n",
       "2014-01-06       11         11     11  \n",
       "2014-01-07        7          7      7  \n",
       "2014-01-08        5          5      5  "
      ]
     },
     "execution_count": 35,
     "metadata": {},
     "output_type": "execute_result"
    }
   ],
   "source": [
    "df = pd.merge(stocks,tweets,left_index=True,right_index=True)\n",
    "df.head()"
   ]
  },
  {
   "cell_type": "code",
   "execution_count": 36,
   "metadata": {},
   "outputs": [
    {
     "data": {
      "text/html": [
       "<div>\n",
       "<style scoped>\n",
       "    .dataframe tbody tr th:only-of-type {\n",
       "        vertical-align: middle;\n",
       "    }\n",
       "\n",
       "    .dataframe tbody tr th {\n",
       "        vertical-align: top;\n",
       "    }\n",
       "\n",
       "    .dataframe thead th {\n",
       "        text-align: right;\n",
       "    }\n",
       "</style>\n",
       "<table border=\"1\" class=\"dataframe\">\n",
       "  <thead>\n",
       "    <tr style=\"text-align: right;\">\n",
       "      <th></th>\n",
       "      <th>Open Price</th>\n",
       "      <th>Close Price</th>\n",
       "      <th>High Price</th>\n",
       "      <th>Low Price</th>\n",
       "      <th>Volume</th>\n",
       "      <th>change</th>\n",
       "      <th>index</th>\n",
       "      <th>source</th>\n",
       "      <th>text</th>\n",
       "      <th>created_at</th>\n",
       "      <th>id_str</th>\n",
       "      <th>Text_Length</th>\n",
       "      <th>cleaned</th>\n",
       "      <th>sentiment</th>\n",
       "      <th>count</th>\n",
       "    </tr>\n",
       "  </thead>\n",
       "  <tbody>\n",
       "    <tr>\n",
       "      <th>2014-01-02</th>\n",
       "      <td>1845.86</td>\n",
       "      <td>1831.98</td>\n",
       "      <td>1845.86</td>\n",
       "      <td>1827.74</td>\n",
       "      <td>1812452608</td>\n",
       "      <td>-0.751953</td>\n",
       "      <td>15</td>\n",
       "      <td>15</td>\n",
       "      <td>15</td>\n",
       "      <td>15</td>\n",
       "      <td>15</td>\n",
       "      <td>15</td>\n",
       "      <td>15</td>\n",
       "      <td>15</td>\n",
       "      <td>15</td>\n",
       "    </tr>\n",
       "    <tr>\n",
       "      <th>2014-01-03</th>\n",
       "      <td>1833.21</td>\n",
       "      <td>1831.37</td>\n",
       "      <td>1838.24</td>\n",
       "      <td>1829.13</td>\n",
       "      <td>1649433088</td>\n",
       "      <td>-0.100370</td>\n",
       "      <td>9</td>\n",
       "      <td>9</td>\n",
       "      <td>9</td>\n",
       "      <td>9</td>\n",
       "      <td>9</td>\n",
       "      <td>9</td>\n",
       "      <td>9</td>\n",
       "      <td>9</td>\n",
       "      <td>9</td>\n",
       "    </tr>\n",
       "    <tr>\n",
       "      <th>2014-01-06</th>\n",
       "      <td>1832.31</td>\n",
       "      <td>1826.77</td>\n",
       "      <td>1837.16</td>\n",
       "      <td>1823.73</td>\n",
       "      <td>1979986176</td>\n",
       "      <td>-0.302351</td>\n",
       "      <td>11</td>\n",
       "      <td>11</td>\n",
       "      <td>11</td>\n",
       "      <td>11</td>\n",
       "      <td>11</td>\n",
       "      <td>11</td>\n",
       "      <td>11</td>\n",
       "      <td>11</td>\n",
       "      <td>11</td>\n",
       "    </tr>\n",
       "    <tr>\n",
       "      <th>2014-01-07</th>\n",
       "      <td>1828.71</td>\n",
       "      <td>1837.88</td>\n",
       "      <td>1840.10</td>\n",
       "      <td>1828.71</td>\n",
       "      <td>2067762944</td>\n",
       "      <td>0.501446</td>\n",
       "      <td>7</td>\n",
       "      <td>7</td>\n",
       "      <td>7</td>\n",
       "      <td>7</td>\n",
       "      <td>7</td>\n",
       "      <td>7</td>\n",
       "      <td>7</td>\n",
       "      <td>7</td>\n",
       "      <td>7</td>\n",
       "    </tr>\n",
       "    <tr>\n",
       "      <th>2014-01-08</th>\n",
       "      <td>1837.90</td>\n",
       "      <td>1837.49</td>\n",
       "      <td>1840.02</td>\n",
       "      <td>1831.40</td>\n",
       "      <td>2319179520</td>\n",
       "      <td>-0.022308</td>\n",
       "      <td>5</td>\n",
       "      <td>5</td>\n",
       "      <td>5</td>\n",
       "      <td>5</td>\n",
       "      <td>5</td>\n",
       "      <td>5</td>\n",
       "      <td>5</td>\n",
       "      <td>5</td>\n",
       "      <td>5</td>\n",
       "    </tr>\n",
       "  </tbody>\n",
       "</table>\n",
       "</div>"
      ],
      "text/plain": [
       "            Open Price  Close Price  High Price  Low Price      Volume  \\\n",
       "2014-01-02     1845.86      1831.98     1845.86    1827.74  1812452608   \n",
       "2014-01-03     1833.21      1831.37     1838.24    1829.13  1649433088   \n",
       "2014-01-06     1832.31      1826.77     1837.16    1823.73  1979986176   \n",
       "2014-01-07     1828.71      1837.88     1840.10    1828.71  2067762944   \n",
       "2014-01-08     1837.90      1837.49     1840.02    1831.40  2319179520   \n",
       "\n",
       "              change  index  source  text  created_at  id_str  Text_Length  \\\n",
       "2014-01-02 -0.751953     15      15    15          15      15           15   \n",
       "2014-01-03 -0.100370      9       9     9           9       9            9   \n",
       "2014-01-06 -0.302351     11      11    11          11      11           11   \n",
       "2014-01-07  0.501446      7       7     7           7       7            7   \n",
       "2014-01-08 -0.022308      5       5     5           5       5            5   \n",
       "\n",
       "            cleaned  sentiment  count  \n",
       "2014-01-02       15         15     15  \n",
       "2014-01-03        9          9      9  \n",
       "2014-01-06       11         11     11  \n",
       "2014-01-07        7          7      7  \n",
       "2014-01-08        5          5      5  "
      ]
     },
     "execution_count": 36,
     "metadata": {},
     "output_type": "execute_result"
    }
   ],
   "source": [
    "df = df.loc[~df.index.duplicated(keep='first')]\n",
    "df.head()"
   ]
  },
  {
   "cell_type": "code",
   "execution_count": 37,
   "metadata": {},
   "outputs": [
    {
     "data": {
      "image/png": "[encoded data removed]",
      "text/plain": [
       "<Figure size 1152x576 with 2 Axes>"
      ]
     },
     "metadata": {
      "needs_background": "light"
     },
     "output_type": "display_data"
    }
   ],
   "source": [
    "plt.figure()                       \n",
    "ax = df['Close Price'].plot(figsize=(16,8),color='red', legend=True, title='S&P 500 vs Trump Tweets')\n",
    "bx = df['count'].ewm(com=4).mean().plot(secondary_y=True,color='blue', legend=True)\n",
    "ax.set_xlabel('Year',fontsize=12)\n",
    "ax.set_ylabel('Price in Dollars',fontsize=12)\n",
    "bx.set_ylabel('Number of Tweets',fontsize=12)\n",
    "plt.show()"
   ]
  },
  {
   "cell_type": "markdown",
   "metadata": {},
   "source": [
    "The presidency of Donald Trump began at noon EST on January 20, 2017, which may be where the more notable shifts. "
   ]
  }
 ],
 "metadata": {
  "kernelspec": {
   "display_name": "Python 3",
   "language": "python",
   "name": "python3"
  },
  "language_info": {
   "codemirror_mode": {
    "name": "ipython",
    "version": 3
   },
   "file_extension": ".py",
   "mimetype": "text/x-python",
   "name": "python",
   "nbconvert_exporter": "python",
   "pygments_lexer": "ipython3",
   "version": "3.7.3"
  }
 },
 "nbformat": 4,
 "nbformat_minor": 2
}
